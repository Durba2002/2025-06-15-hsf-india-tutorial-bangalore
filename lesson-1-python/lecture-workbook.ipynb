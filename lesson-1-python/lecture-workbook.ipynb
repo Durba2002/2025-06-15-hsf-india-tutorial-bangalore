{
 "cells": [
  {
   "cell_type": "markdown",
   "id": "a5ef82df-4310-4376-ac44-e6cb10a544d6",
   "metadata": {
    "editable": true,
    "slideshow": {
     "slide_type": "slide"
    },
    "tags": []
   },
   "source": [
    "# Lesson 1: The Python language (workbook)"
   ]
  },
  {
   "cell_type": "markdown",
   "id": "97bf3e43-7ec2-466c-80af-edb65c952098",
   "metadata": {
    "editable": true,
    "slideshow": {
     "slide_type": ""
    },
    "tags": []
   },
   "source": [
    "Import statements: run these first."
   ]
  },
  {
   "cell_type": "code",
   "execution_count": 2,
   "id": "79e5fac1-3391-41f4-aa26-03a8e7f072e3",
   "metadata": {
    "editable": true,
    "slideshow": {
     "slide_type": ""
    },
    "tags": []
   },
   "outputs": [],
   "source": [
    "# Python standard library\n",
    "import numbers\n",
    "import json\n",
    "import math\n",
    "\n",
    "# Scientific Python ecosystem\n",
    "import numpy as np\n",
    "import matplotlib.pyplot as plt\n",
    "from mpl_toolkits.mplot3d import Axes3D\n",
    "\n",
    "# Particle physics tools\n",
    "from hepunits import GeV\n",
    "from particle import Particle\n",
    "import vector"
   ]
  },
  {
   "cell_type": "markdown",
   "id": "3ad8649b-aca4-4bc8-9e9d-7b629c88b91f",
   "metadata": {
    "editable": true,
    "slideshow": {
     "slide_type": ""
    },
    "tags": []
   },
   "source": [
    "Use these empty cells to try things on your own."
   ]
  },
  {
   "cell_type": "code",
   "execution_count": 12,
   "id": "f5303773-1175-4749-9e67-2b640ae0ee1e",
   "metadata": {},
   "outputs": [
    {
     "name": "stdout",
     "output_type": "stream",
     "text": [
      "Help on package hepunits.constants in hepunits:\n",
      "\n",
      "NAME\n",
      "    hepunits.constants - # Licensed under a 3-clause BSD style license, see LICENSE.\n",
      "\n",
      "PACKAGE CONTENTS\n",
      "    constants\n",
      "\n",
      "DATA\n",
      "    Avogadro = 6.02214076e+23\n",
      "    c_light = 299.792458\n",
      "    c_light_sq = 89875.51787368178\n",
      "    e_sq = 1.0\n",
      "    eminus = -1.0\n",
      "    eplus = 1.0\n",
      "    h_Planck = 4.135667696923858e-12\n",
      "    half_pi = 1.5707963267948966\n",
      "    hbar = 6.582119569509065e-13\n",
      "    hbar_Planck = 6.582119569509065e-13\n",
      "    hbarc = 1.9732698045930245e-10\n",
      "    hbarc_sq = 3.893793721718593e-20\n",
      "    joule = 6241509074460.763\n",
      "    k_Boltzmann = 8.617333262145178e-11\n",
      "    kelvin = 1.0\n",
      "    m = 1000.0\n",
      "    mole = 1.0\n",
      "    pi = 3.141592653589793\n",
      "    pi_sq = 9.869604401089358\n",
      "    s = 1000000000.0\n",
      "    two_pi = 6.283185307179586\n",
      "\n",
      "FILE\n",
      "    /srv/conda/envs/notebook/lib/python3.10/site-packages/hepunits/constants/__init__.py\n",
      "\n",
      "\n"
     ]
    }
   ],
   "source": [
    "import hepunits\n",
    "help(hepunits.constants)"
   ]
  },
  {
   "cell_type": "code",
   "execution_count": 7,
   "id": "31ea2c76-eb2c-4f82-a4af-dc203b3a23d0",
   "metadata": {},
   "outputs": [
    {
     "name": "stdout",
     "output_type": "stream",
     "text": [
      "Help on package hepunits.units in hepunits:\n",
      "\n",
      "NAME\n",
      "    hepunits.units - # Licensed under a 3-clause BSD style license, see LICENSE.\n",
      "\n",
      "PACKAGE CONTENTS\n",
      "    prefixes\n",
      "    units\n",
      "\n",
      "DATA\n",
      "    A = 6241509074.460763\n",
      "    Bq = 1e-09\n",
      "    Ci = 37.0\n",
      "    EeV = 1000000000000.0\n",
      "    GBq = 1.0\n",
      "    GHz = 1.0\n",
      "    GW = 6241509074460.763\n",
      "    GeV = 1000.0\n",
      "    Gy = 1.0000000000000002e-12\n",
      "    H = 1.602176634e-07\n",
      "    Hz = 1e-09\n",
      "    J = 6241509074460.763\n",
      "    K = 1.0\n",
      "    MBq = 0.001\n",
      "    MGy = 1.0000000000000002e-06\n",
      "    MHz = 0.001\n",
      "    MW = 6241509074.460762\n",
      "    MeV = 1.0\n",
      "    N = 6241509074.460763\n",
      "    Pa = 6241.509074460763\n",
      "    PeV = 1000000000.0\n",
      "    Sv = 1.0000000000000002e-12\n",
      "    THz = 1000.0000000000001\n",
      "    TeV = 1000000.0\n",
      "    W = 6241.509074460762\n",
      "    Wb = 1000.0\n",
      "    ZeV = 1000000000000000.0\n",
      "    ab = 1e-40\n",
      "    ampere = 6241509074.460763\n",
      "    angstrom = 1.0000000000000001e-07\n",
      "    atmosphere = 632420906.9697368\n",
      "    atto = 1e-18\n",
      "    attobarn = 1e-40\n",
      "    attosecond = 1e-09\n",
      "    bar = 624150907.4460763\n",
      "    barn = 9.999999999999999e-23\n",
      "    becquerel = 1e-09\n",
      "    candela = 1.0\n",
      "    cd = 1.0\n",
      "    centi = 0.01\n",
      "    centimeter = 10.0\n",
      "    centimeter2 = 100.0\n",
      "    centimeter3 = 1000.0\n",
      "    cm = 10.0\n",
      "    cm2 = 100.0\n",
      "    cm3 = 1000.0\n",
      "    coulomb = 6.241509074460763e+18\n",
      "    curie = 37.0\n",
      "    d = 86400000000000.0\n",
      "    day = 86400000000000.0\n",
      "    deca = 10.0\n",
      "    deci = 0.1\n",
      "    deg = 0.017453292519943295\n",
      "    degree = 0.017453292519943295\n",
      "    dyne = 62415.09074460764\n",
      "    eV = 1e-06\n",
      "    e_SI = 1.602176634e-19\n",
      "    electronvolt = 1e-06\n",
      "    eplus = 1.0\n",
      "    erg = 624150.9074460763\n",
      "    exa = 1e+18\n",
      "    exaelectronvolt = 1000000000000.0\n",
      "    exbi = 1.152921504606847e+18\n",
      "    farad = 6.241509074460764e+24\n",
      "    fb = 1e-37\n",
      "    femto = 1e-15\n",
      "    femtobarn = 1e-37\n",
      "    femtometer = 1e-12\n",
      "    femtosecond = 1.0000000000000002e-06\n",
      "    fermi = 1e-12\n",
      "    fm = 1e-12\n",
      "    fm2 = 1e-24\n",
      "    fm3 = 1e-36\n",
      "    fs = 1.0000000000000002e-06\n",
      "    g = 6.241509074460762e+21\n",
      "    gauss = 1.0000000000000001e-07\n",
      "    gibi = 1073741824.0\n",
      "    giga = 1000000000.0\n",
      "    gigabecquerel = 1.0\n",
      "    gigaelectronvolt = 1000.0\n",
      "    gigahertz = 1.0\n",
      "    googol = 1e+100\n",
      "    gram = 6.241509074460762e+21\n",
      "    gray = 1.0000000000000002e-12\n",
      "    h = 3600000000000.0\n",
      "    hecto = 100.0\n",
      "    henry = 1.602176634e-07\n",
      "    hertz = 1e-09\n",
      "    hour = 3600000000000.0\n",
      "    invab = 1e+40\n",
      "    invfb = 1e+37\n",
      "    invmb = 1e+25\n",
      "    invnb = 1e+31\n",
      "    invpb = 1.0000000000000001e+34\n",
      "    invub = 1.0000000000000002e+28\n",
      "    joule = 6241509074460.763\n",
      "    kBq = 1.0000000000000002e-06\n",
      "    kGy = 1.0000000000000003e-09\n",
      "    kHz = 1.0000000000000002e-06\n",
      "    kW = 6241509.074460763\n",
      "    keV = 0.001\n",
      "    kelvin = 1.0\n",
      "    kg = 6.241509074460762e+24\n",
      "    kibi = 1024.0\n",
      "    kilo = 1000.0\n",
      "    kilobecquerel = 1.0000000000000002e-06\n",
      "    kiloelectronvolt = 0.001\n",
      "    kilogauss = 0.0001\n",
      "    kilogram = 6.241509074460762e+24\n",
      "    kilogray = 1.0000000000000003e-09\n",
      "    kilohertz = 1.0000000000000002e-06\n",
      "    kilometer = 1000000.0\n",
      "    kilometer2 = 1000000000000.0\n",
      "    kilometer3 = 1e+18\n",
      "    kilovolt = 0.001\n",
      "    km = 1000000.0\n",
      "    km2 = 1000000000000.0\n",
      "    km3 = 1e+18\n",
      "    lumen = 1.0\n",
      "    lux = 1e-06\n",
      "    m = 1000.0\n",
      "    m2 = 1000000.0\n",
      "    m3 = 1000000000.0\n",
      "    mCi = 0.037\n",
      "    mGy = 1.0000000000000003e-15\n",
      "    mWb = 1.0\n",
      "    mb = 9.999999999999999e-26\n",
      "    mebi = 1048576.0\n",
      "    mega = 1000000.0\n",
      "    megabecquerel = 0.001\n",
      "    megaelectronvolt = 1.0\n",
      "    megagray = 1.0000000000000002e-06\n",
      "    megahertz = 0.001\n",
      "    megavolt = 1.0\n",
      "    meter = 1000.0\n",
      "    meter2 = 1000000.0\n",
      "    meter3 = 1000000000.0\n",
      "    mg = 6.241509074460762e+18\n",
      "    micro = 1e-06\n",
      "    microampere = 6241.509074460762\n",
      "    microbarn = 9.999999999999999e-29\n",
      "    microcurie = 3.7e-05\n",
      "    microfarad = 6.241509074460763e+18\n",
      "    microgray = 1e-18\n",
      "    micrometer = 0.001\n",
      "    micron = 0.001\n",
      "    microsecond = 1000.0\n",
      "    microweber = 0.001\n",
      "    milli = 0.001\n",
      "    milliampere = 6241509.0744607635\n",
      "    millibarn = 9.999999999999999e-26\n",
      "    millicurie = 0.037\n",
      "    millifarad = 6.241509074460764e+21\n",
      "    milligram = 6.241509074460762e+18\n",
      "    milligray = 1.0000000000000003e-15\n",
      "    millimeter = 1.0\n",
      "    millimeter2 = 1.0\n",
      "    millimeter3 = 1.0\n",
      "    milliradian = 0.001\n",
      "    millisecond = 1000000.0\n",
      "    milliweber = 1.0\n",
      "    minute = 60000000000.0\n",
      "    mm = 1.0\n",
      "    mm2 = 1.0\n",
      "    mm3 = 1.0\n",
      "    mol = 1.0\n",
      "    mole = 1.0\n",
      "    mrad = 0.001\n",
      "    ms = 1000000.0\n",
      "    nCi = 3.7e-08\n",
      "    nWb = 1.0000000000000002e-06\n",
      "    nano = 1e-09\n",
      "    nanoampere = 6.2415090744607635\n",
      "    nanobarn = 1e-31\n",
      "    nanocurie = 3.7e-08\n",
      "    nanofarad = 6241509074460764.0\n",
      "    nanometer = 1.0000000000000002e-06\n",
      "    nanosecond = 1.0\n",
      "    nanoweber = 1.0000000000000002e-06\n",
      "    nb = 1e-31\n",
      "    newton = 6241509074.460763\n",
      "    ns = 1.0\n",
      "    ohm = 1.602176634e-16\n",
      "    pascal = 6241.509074460763\n",
      "    pb = 1e-34\n",
      "    pebi = 1125899906842624.0\n",
      "    peta = 1000000000000000.0\n",
      "    petaelectronvolt = 1000000000.0\n",
      "    pico = 1e-12\n",
      "    picobarn = 1e-34\n",
      "    picofarad = 6241509074460.764\n",
      "    picosecond = 0.001\n",
      "    ps = 0.001\n",
      "    rad = 1.0\n",
      "    radian = 1.0\n",
      "    s = 1000000000.0\n",
      "    second = 1000000000.0\n",
      "    sievert = 1.0000000000000002e-12\n",
      "    sr = 1.0\n",
      "    steradian = 1.0\n",
      "    tebi = 1099511627776.0\n",
      "    tera = 1000000000000.0\n",
      "    teraelectronvolt = 1000000.0\n",
      "    terahertz = 1000.0000000000001\n",
      "    tesla = 0.001\n",
      "    uCi = 3.7e-05\n",
      "    uGy = 1e-18\n",
      "    uWb = 0.001\n",
      "    ub = 9.999999999999999e-29\n",
      "    us = 1000.0\n",
      "    volt = 1e-06\n",
      "    watt = 6241.509074460762\n",
      "    weber = 1000.0\n",
      "    y = 3.15576e+16\n",
      "    year = 3.15576e+16\n",
      "    yobi = 1.2089258196146292e+24\n",
      "    yocto = 1e-24\n",
      "    yoctosecond = 9.999999999999999e-16\n",
      "    yotta = 1e+24\n",
      "    ys = 9.999999999999999e-16\n",
      "    zebi = 1.1805916207174113e+21\n",
      "    zepto = 1e-21\n",
      "    zeptosecond = 1e-12\n",
      "    zetta = 1e+21\n",
      "    zettaelectronvolt = 1000000000000000.0\n",
      "    zs = 1e-12\n",
      "\n",
      "FILE\n",
      "    /srv/conda/envs/notebook/lib/python3.10/site-packages/hepunits/units/__init__.py\n",
      "\n",
      "\n"
     ]
    }
   ],
   "source": [
    "import hepunits\n",
    "help(hepunits.units)"
   ]
  },
  {
   "cell_type": "markdown",
   "id": "bc66e9a5-9bca-4cad-a3ff-eba76a72b031",
   "metadata": {
    "editable": true,
    "slideshow": {
     "slide_type": ""
    },
    "tags": []
   },
   "source": [
    "We'll be using these equations a lot:\n",
    "\n",
    "$$p = \\sqrt{{p_x}^2 + {p_y}^2 + {p_z}^2}$$\n",
    "\n",
    "$$m = \\sqrt{E^2 - p^2}$$"
   ]
  },
  {
   "cell_type": "markdown",
   "id": "38366e2b-bb9d-4dca-a3b3-0e3f836a31b8",
   "metadata": {
    "editable": true,
    "slideshow": {
     "slide_type": "fragment"
    },
    "tags": []
   },
   "source": [
    "**Quizlet:** Fix the mistake!"
   ]
  },
  {
   "cell_type": "code",
   "execution_count": 15,
   "id": "3bf6f78f-c5cf-4014-a782-f4a7b1d10948",
   "metadata": {
    "editable": true,
    "slideshow": {
     "slide_type": ""
    },
    "tags": []
   },
   "outputs": [],
   "source": [
    "E = 68.1289790\n",
    "px = -17.945541\n",
    "py = 13.1652603\n",
    "pz = 64.3908386"
   ]
  },
  {
   "cell_type": "code",
   "execution_count": 17,
   "id": "795c2084-3830-4961-8939-aab13c4029d0",
   "metadata": {
    "editable": true,
    "slideshow": {
     "slide_type": ""
    },
    "tags": []
   },
   "outputs": [
    {
     "data": {
      "text/plain": [
       "0.10565709514578395"
      ]
     },
     "execution_count": 17,
     "metadata": {},
     "output_type": "execute_result"
    }
   ],
   "source": [
    "m = (E**2 - (px**2 + py**2 + pz**2))**(1/2)\n",
    "m"
   ]
  },
  {
   "cell_type": "markdown",
   "id": "1215ee11-b351-4d86-b44e-a2d9a9eeebd3",
   "metadata": {
    "editable": true,
    "slideshow": {
     "slide_type": ""
    },
    "tags": []
   },
   "source": [
    "`m` should be `0.10565709514578395`. What was the mistake?"
   ]
  },
  {
   "cell_type": "code",
   "execution_count": 18,
   "id": "1726a486-0321-43fc-a5e7-de755a334cab",
   "metadata": {
    "editable": true,
    "slideshow": {
     "slide_type": ""
    },
    "tags": []
   },
   "outputs": [
    {
     "name": "stdout",
     "output_type": "stream",
     "text": [
      "<class 'type'>\n"
     ]
    }
   ],
   "source": [
    "from particle import Particle\n",
    "print(type(Particle))"
   ]
  },
  {
   "cell_type": "code",
   "execution_count": 19,
   "id": "1752b9e0-3d95-4b38-8c7f-17efc9d324d3",
   "metadata": {
    "editable": true,
    "slideshow": {
     "slide_type": ""
    },
    "tags": []
   },
   "outputs": [
    {
     "name": "stdout",
     "output_type": "stream",
     "text": [
      "Help on method from_name in module particle.particle.particle:\n",
      "\n",
      "from_name(name: 'str') -> 'Self' method of builtins.type instance\n",
      "    Get a particle from its name.\n",
      "    \n",
      "    Raises\n",
      "    ------\n",
      "    ParticleNotFound\n",
      "        If no particle matches the input name uniquely and exactly.\n",
      "\n"
     ]
    }
   ],
   "source": [
    "from particle import Particle\n",
    "help(Particle.from_name)\n"
   ]
  },
  {
   "cell_type": "markdown",
   "id": "52a803b1-a947-4fa5-8336-0269fca090ea",
   "metadata": {
    "editable": true,
    "slideshow": {
     "slide_type": ""
    },
    "tags": []
   },
   "source": [
    "What can you do with this `muon` object?"
   ]
  },
  {
   "cell_type": "code",
   "execution_count": 20,
   "id": "3e73cff4-9927-4db5-9783-65e1fe65d32b",
   "metadata": {
    "editable": true,
    "slideshow": {
     "slide_type": ""
    },
    "tags": []
   },
   "outputs": [
    {
     "data": {
      "text/latex": [
       "$\\mu^{+}$"
      ],
      "text/plain": [
       "<Particle: name=\"mu+\", pdgid=-13, mass=105.6583755 ± 0.0000023 MeV>"
      ]
     },
     "execution_count": 20,
     "metadata": {},
     "output_type": "execute_result"
    }
   ],
   "source": [
    "muon = Particle.from_name(\"mu+\")\n",
    "muon"
   ]
  },
  {
   "cell_type": "code",
   "execution_count": 25,
   "id": "eefa99a6-43b6-4adc-bfa4-e69d428c98be",
   "metadata": {},
   "outputs": [
    {
     "name": "stdout",
     "output_type": "stream",
     "text": [
      "<class 'particle.particle.particle.Particle'>\n"
     ]
    }
   ],
   "source": [
    "print(type(muon))"
   ]
  },
  {
   "cell_type": "code",
   "execution_count": 21,
   "id": "86e6b561-3054-4552-b166-47f26a9d5630",
   "metadata": {
    "editable": true,
    "slideshow": {
     "slide_type": ""
    },
    "tags": []
   },
   "outputs": [
    {
     "data": {
      "text/plain": [
       "\u001b[0;31mType:\u001b[0m           Particle\n",
       "\u001b[0;31mString form:\u001b[0m    mu+\n",
       "\u001b[0;31mFile:\u001b[0m           /srv/conda/envs/notebook/lib/python3.10/site-packages/particle/particle/particle.py\n",
       "\u001b[0;31mDocstring:\u001b[0m     \n",
       "The Particle object class. Hold a series of properties for a particle.\n",
       "\n",
       "Class properties:\n",
       "\n",
       "C\n",
       "    The charge conjugation parity quantum number, if relevant.\n",
       "    It is C = (-1)^(L+S) for self-conjugate mesons.\n",
       "    Mesons with PDG IDs of the kind 9XXXXXX (N=9) are not experimentally well-known particles\n",
       "    and None is returned.\n",
       "\n",
       "G\n",
       "    The G-parity quantum number, if relevant.\n",
       "\n",
       "I\n",
       "    The isospin quantum number, if relevant.\n",
       "\n",
       "P\n",
       "    The parity quantum number, if relevant.\n",
       "    It is P = (-1)^(L+1) for self-conjugate mesons and -1 for the photon.\n",
       "    Mesons with PDG IDs of the kind 9XXXXXX (N=9) are not experimentally well-known particles\n",
       "    and None is returned.\n",
       "\n",
       "anti_flag\n",
       "    The particle-antiparticle flag.\n",
       "\n",
       "    A = B     - particle that has anti-particle partner different from particle\n",
       "                with ASCII name formed by concatenation of the name shown below with charge\n",
       "                ( e- <--> e+, pi+ <--> pi-, K+ <--> K-, W+ <--> W- ).\n",
       "    A = F     - particle that has anti-particle partner different from particle\n",
       "                with ascii name formed by concatenation of the name shown below with string \"bar\" and charge\n",
       "                by the rule (nu(e) <--> nubar(e), p <--> pbar, Delta++ <--> Deltabar--)\n",
       "    A = blank - particle that coincides with its antiparticle (gamma, pi0, eta).\n",
       "\n",
       "charge\n",
       "    The particle charge, in units of the positron charge.\n",
       "\n",
       "latex_name\n",
       "    The particle name in LaTeX.\n",
       "\n",
       "mass\n",
       "    The particle mass, in MeV.\n",
       "\n",
       "mass_lower\n",
       "    The lower uncertainty on the particle mass, in MeV.\n",
       "\n",
       "mass_upper\n",
       "    The upper uncertainty on the particle mass, in MeV.\n",
       "\n",
       "pdgid\n",
       "    The PDG ID.\n",
       "\n",
       "pdg_name\n",
       "    The particle name as in the PDG data file.\n",
       "\n",
       "    Note:\n",
       "    This name does not contain the charge. See alternative `name`.\n",
       "\n",
       "quarks\n",
       "    The quark content of the particle. Empty string if not relevant.\n",
       "\n",
       "    Note:\n",
       "    Capital letters represent anti-quarks, 'qQ' stands for light quark,\n",
       "    light anti-quark pair with unknown wave functions.\n",
       "    x, y stand for wave function coefficients, see the Review of Particle Physics (RPP) 'Quark Model' Review.\n",
       "    p, q stand for CP violation parameters, see the RPP 'CP violation in KL Decays' review.\n",
       "\n",
       "rank\n",
       "    The particle rank as specified by the PDG, i.e. the number of baryon stars - used only on baryons.\n",
       "\n",
       "    Possible values are:\n",
       "    4 - Existence is certain, and properties are at least fairly well explored.\n",
       "    3 - Existence ranges from very likely to certain, but further confirmation\n",
       "         is desirable and/or quantum numbers, branching fractions, etc. are not well determined.\n",
       "    2 - Evidence of existence is only fair.\n",
       "    1 - Evidence of existence is poor.\n",
       "\n",
       "status\n",
       "    The particle status as specified by the PDG.\n",
       "\n",
       "    Possible values are:\n",
       "    R - Established particles in the Review of Particle Physics (RPP) Summary Table\n",
       "        in Particle Physics Booklet\n",
       "        (established quarks, gauge bosons, leptons, mesons and baryons, except those in D below).\n",
       "    D - The particle is omitted from the Summary Tables in the Particle Physics Booklet,\n",
       "        but not from the Review. These entries are omitted only to save space\n",
       "        even though they are well established.\n",
       "    S - The particle is omitted from the particle properties Summary Tables\n",
       "        because it is not well established.\n",
       "    F - Special case: \"Further mesons\", see RPP, these states are in the RPP database\n",
       "        but are poorly established or observed by a single group and thus need confirmation.\n",
       "        If used, these should be referred to the original publication.\n",
       "\n",
       "width\n",
       "    The particle decay width, in MeV.\n",
       "\n",
       "width_lower\n",
       "    The lower uncertainty on the particle decay width, in MeV.\n",
       "\n",
       "width_upper\n",
       "    The upper uncertainty on the particle decay width, in MeV.\n",
       "\u001b[0;31mInit docstring:\u001b[0m Method generated by attrs for class Particle."
      ]
     },
     "metadata": {},
     "output_type": "display_data"
    }
   ],
   "source": [
    "?muon"
   ]
  },
  {
   "cell_type": "code",
   "execution_count": 23,
   "id": "310dfbc4-99ba-40d5-a9fc-40de059cc55b",
   "metadata": {
    "editable": true,
    "slideshow": {
     "slide_type": ""
    },
    "tags": []
   },
   "outputs": [
    {
     "data": {
      "text/plain": [
       "['C',\n",
       " 'G',\n",
       " 'I',\n",
       " 'J',\n",
       " 'L',\n",
       " 'P',\n",
       " 'S',\n",
       " '__annotations__',\n",
       " '__attrs_attrs__',\n",
       " '__attrs_own_setattr__',\n",
       " '__class__',\n",
       " '__delattr__',\n",
       " '__dir__',\n",
       " '__doc__',\n",
       " '__eq__',\n",
       " '__format__',\n",
       " '__ge__',\n",
       " '__getattribute__',\n",
       " '__getstate__',\n",
       " '__gt__',\n",
       " '__hash__',\n",
       " '__init__',\n",
       " '__init_subclass__',\n",
       " '__invert__',\n",
       " '__le__',\n",
       " '__lt__',\n",
       " '__match_args__',\n",
       " '__module__',\n",
       " '__ne__',\n",
       " '__neg__',\n",
       " '__new__',\n",
       " '__reduce__',\n",
       " '__reduce_ex__',\n",
       " '__repr__',\n",
       " '__setattr__',\n",
       " '__setstate__',\n",
       " '__sizeof__',\n",
       " '__slots__',\n",
       " '__str__',\n",
       " '__subclasshook__',\n",
       " '__weakref__',\n",
       " '_charge_in_name',\n",
       " '_hash_table',\n",
       " '_repr_latex_',\n",
       " '_str_charge',\n",
       " '_str_mass',\n",
       " '_table',\n",
       " '_table_names',\n",
       " '_three_charge',\n",
       " '_width_or_lifetime',\n",
       " 'all',\n",
       " 'anti_flag',\n",
       " 'charge',\n",
       " 'ctau',\n",
       " 'describe',\n",
       " 'empty',\n",
       " 'evtgen_name',\n",
       " 'findall',\n",
       " 'finditer',\n",
       " 'from_evtgen_name',\n",
       " 'from_name',\n",
       " 'from_nucleus_info',\n",
       " 'from_pdgid',\n",
       " 'html_name',\n",
       " 'invert',\n",
       " 'is_name_barred',\n",
       " 'is_self_conjugate',\n",
       " 'is_unflavoured_meson',\n",
       " 'latex_name',\n",
       " 'lifetime',\n",
       " 'load_table',\n",
       " 'mass',\n",
       " 'mass_lower',\n",
       " 'mass_upper',\n",
       " 'name',\n",
       " 'pdg_name',\n",
       " 'pdgid',\n",
       " 'programmatic_name',\n",
       " 'quarks',\n",
       " 'rank',\n",
       " 'spin_type',\n",
       " 'status',\n",
       " 'table_loaded',\n",
       " 'table_names',\n",
       " 'three_charge',\n",
       " 'to_dict',\n",
       " 'to_list',\n",
       " 'width',\n",
       " 'width_lower',\n",
       " 'width_upper']"
      ]
     },
     "execution_count": 23,
     "metadata": {},
     "output_type": "execute_result"
    }
   ],
   "source": [
    "dir(muon)"
   ]
  },
  {
   "cell_type": "markdown",
   "id": "42b798f1-25e1-447e-a7ba-f217a0e92855",
   "metadata": {
    "editable": true,
    "slideshow": {
     "slide_type": "slide"
    },
    "tags": []
   },
   "source": [
    "**Quizlet:** before you run the following, what will it do?\n",
    "\n",
    "```python\n",
    "type(type(1)(\"2\"))\n",
    "```"
   ]
  },
  {
   "cell_type": "code",
   "execution_count": 26,
   "id": "8ac4ccd5-b975-49f7-81a0-de773eaf8096",
   "metadata": {
    "editable": true,
    "slideshow": {
     "slide_type": ""
    },
    "tags": []
   },
   "outputs": [
    {
     "data": {
      "text/plain": [
       "int"
      ]
     },
     "execution_count": 26,
     "metadata": {},
     "output_type": "execute_result"
    }
   ],
   "source": [
    "type(type(1)(\"2\"))"
   ]
  },
  {
   "cell_type": "markdown",
   "id": "2a75f14b-46fc-4b37-aa26-57ce8185fe73",
   "metadata": {
    "editable": true,
    "slideshow": {
     "slide_type": "fragment"
    },
    "tags": []
   },
   "source": [
    "**Quizlet:** Before you run it, what will this do?\n",
    "\n",
    "```python\n",
    "some_list[2:8][3]\n",
    "```"
   ]
  },
  {
   "cell_type": "code",
   "execution_count": 27,
   "id": "09f021e5-92e8-40b8-a5ef-03b8331b248c",
   "metadata": {
    "editable": true,
    "slideshow": {
     "slide_type": ""
    },
    "tags": []
   },
   "outputs": [],
   "source": [
    "some_list = [0.0, 1.1, 2.2, 33333, 4.4, 5.5, 6.6, 7.7, 8.8, 9.9, 'mixed types']\n",
    "some_dict = {'one': 1.1, 'two': 22222, 'three': 3.3, 123: 'mixed types'}"
   ]
  },
  {
   "cell_type": "code",
   "execution_count": 28,
   "id": "9217f538-f791-4095-802c-2608dc1608d2",
   "metadata": {
    "editable": true,
    "slideshow": {
     "slide_type": ""
    },
    "tags": []
   },
   "outputs": [
    {
     "data": {
      "text/plain": [
       "5.5"
      ]
     },
     "execution_count": 28,
     "metadata": {},
     "output_type": "execute_result"
    }
   ],
   "source": [
    "some_list[2:8][3]"
   ]
  },
  {
   "cell_type": "code",
   "execution_count": 29,
   "id": "3f07b1a7-1491-41b4-9bca-bf7962b3a5b0",
   "metadata": {
    "editable": true,
    "slideshow": {
     "slide_type": ""
    },
    "tags": []
   },
   "outputs": [
    {
     "data": {
      "text/plain": [
       "2.2"
      ]
     },
     "execution_count": 29,
     "metadata": {},
     "output_type": "execute_result"
    }
   ],
   "source": [
    "some_list[2]"
   ]
  },
  {
   "cell_type": "markdown",
   "id": "c21bd26c-4580-4748-88b8-a6f86d642b9c",
   "metadata": {
    "editable": true,
    "slideshow": {
     "slide_type": "slide"
    },
    "tags": []
   },
   "source": [
    "Starting from the observed electrons and muons, we reconstruct unobserved particles by adding energy and momentum.\n",
    "\n",
    "<br>\n",
    "\n",
    "<center>\n",
    "<img src=\"../img/higgs-to-four-leptons-diagram.png\" width=\"600px\">\n",
    "</center>"
   ]
  },
  {
   "cell_type": "code",
   "execution_count": 30,
   "id": "4b71cd11-7293-4b01-8d85-fca8d7ccf4d0",
   "metadata": {
    "editable": true,
    "slideshow": {
     "slide_type": "fragment"
    },
    "tags": []
   },
   "outputs": [],
   "source": [
    "particles = [\n",
    "    {\"type\": \"electron\", \"E\": 171.848714, \"px\": 38.4242935, \"py\": -28.779644, \"pz\": 165.006927, \"charge\": 1,},\n",
    "    {\"type\": \"electron\", \"E\": 138.501266, \"px\": -34.431419, \"py\": 24.6730384, \"pz\": 131.864776, \"charge\": -1,},\n",
    "    {\"type\": \"muon\", \"E\": 68.1289790, \"px\": -17.945541, \"py\": 13.1652603, \"pz\": 64.3908386, \"charge\": 1,},\n",
    "    {\"type\": \"muon\", \"E\": 18.8320473, \"px\": -8.1843795, \"py\": -7.6400470, \"pz\": 15.1420097, \"charge\": -1,},\n",
    "]"
   ]
  },
  {
   "cell_type": "code",
   "execution_count": 34,
   "id": "d751099e-20f0-48e9-bc4d-1476cfe3036e",
   "metadata": {},
   "outputs": [
    {
     "name": "stdout",
     "output_type": "stream",
     "text": [
      "<class 'list'>\n"
     ]
    }
   ],
   "source": [
    "print(type(particles))"
   ]
  },
  {
   "cell_type": "code",
   "execution_count": 35,
   "id": "a12e2d10-b4d1-4fcc-ae14-2445cbdcb119",
   "metadata": {},
   "outputs": [
    {
     "name": "stdout",
     "output_type": "stream",
     "text": [
      "<class 'dict'>\n"
     ]
    }
   ],
   "source": [
    "print(type(particles[0]))"
   ]
  },
  {
   "cell_type": "code",
   "execution_count": 31,
   "id": "11826c1f-fa7a-4289-9e9c-f4d009e3ef0c",
   "metadata": {
    "editable": true,
    "slideshow": {
     "slide_type": "fragment"
    },
    "tags": []
   },
   "outputs": [],
   "source": [
    "def particle_decay(name, particle1, particle2):\n",
    "    return {\n",
    "        \"type\": name,\n",
    "        \"E\": particle1[\"E\"] + particle2[\"E\"],\n",
    "        \"px\": particle1[\"px\"] + particle2[\"px\"],\n",
    "        \"py\": particle1[\"py\"] + particle2[\"py\"],\n",
    "        \"pz\": particle1[\"pz\"] + particle2[\"pz\"],\n",
    "        \"charge\": particle1[\"charge\"] + particle2[\"charge\"],\n",
    "    }"
   ]
  },
  {
   "cell_type": "code",
   "execution_count": 32,
   "id": "9fe20987-105e-4f03-8bd9-e2bdad23d682",
   "metadata": {
    "editable": true,
    "slideshow": {
     "slide_type": "slide"
    },
    "tags": []
   },
   "outputs": [
    {
     "data": {
      "text/plain": [
       "{'type': 'Z boson',\n",
       " 'E': 310.34997999999996,\n",
       " 'px': 3.992874499999999,\n",
       " 'py': -4.106605600000002,\n",
       " 'pz': 296.871703,\n",
       " 'charge': 0}"
      ]
     },
     "execution_count": 32,
     "metadata": {},
     "output_type": "execute_result"
    }
   ],
   "source": [
    "z1 = particle_decay(\"Z boson\", particles[0], particles[1])\n",
    "z1"
   ]
  },
  {
   "cell_type": "code",
   "execution_count": 33,
   "id": "bb45cc83-44d5-4850-be90-afcd9d22e41b",
   "metadata": {
    "editable": true,
    "slideshow": {
     "slide_type": ""
    },
    "tags": []
   },
   "outputs": [
    {
     "data": {
      "text/plain": [
       "{'type': 'Z boson',\n",
       " 'E': 86.9610263,\n",
       " 'px': -26.129920499999997,\n",
       " 'py': 5.5252133,\n",
       " 'pz': 79.5328483,\n",
       " 'charge': 0}"
      ]
     },
     "execution_count": 33,
     "metadata": {},
     "output_type": "execute_result"
    }
   ],
   "source": [
    "z2 = particle_decay(\"Z boson\", particles[2], particles[3])\n",
    "z2"
   ]
  },
  {
   "cell_type": "code",
   "execution_count": 36,
   "id": "bf49b07f-d89e-40ab-8fef-b3a78b22d7a3",
   "metadata": {
    "editable": true,
    "slideshow": {
     "slide_type": ""
    },
    "tags": []
   },
   "outputs": [
    {
     "data": {
      "text/plain": [
       "{'type': 'Higgs boson',\n",
       " 'E': 397.3110063,\n",
       " 'px': -22.137045999999998,\n",
       " 'py': 1.4186076999999981,\n",
       " 'pz': 376.40455130000004,\n",
       " 'charge': 0}"
      ]
     },
     "execution_count": 36,
     "metadata": {},
     "output_type": "execute_result"
    }
   ],
   "source": [
    "higgs = particle_decay(\"Higgs boson\", z1, z2)\n",
    "higgs"
   ]
  },
  {
   "cell_type": "markdown",
   "id": "de66f0fd-5378-48f0-9991-5164aa84c20c",
   "metadata": {
    "editable": true,
    "slideshow": {
     "slide_type": "slide"
    },
    "tags": []
   },
   "source": [
    "**Quizlet:** Define the `particle_mass` function and compute the mass of `z1`, `z2`, and `higgs`.\n",
    "\n",
    "| input | expected output |\n",
    "|:--|:--|\n",
    "| `particle_mass(z1)` | `90.28562890933117` |\n",
    "| `particle_mass(z2)` | `22.878929369436445` |\n",
    "| `particle_mass(higgs)` | `125.23413366311769` |"
   ]
  },
  {
   "cell_type": "code",
   "execution_count": 38,
   "id": "99080421-b137-443a-b223-f32b91dff08c",
   "metadata": {
    "editable": true,
    "slideshow": {
     "slide_type": ""
    },
    "tags": []
   },
   "outputs": [],
   "source": [
    "def particle_mass(particle):\n",
    "    return (particle[\"E\"]**2-(particle[\"px\"]**2+particle[\"py\"]**2+particle[\"pz\"]**2)**(1/2))"
   ]
  },
  {
   "cell_type": "code",
   "execution_count": 39,
   "id": "c3cb9758-03ea-475f-9023-eae37d15f3d7",
   "metadata": {
    "editable": true,
    "slideshow": {
     "slide_type": ""
    },
    "tags": []
   },
   "outputs": [
    {
     "data": {
      "text/plain": [
       "96020.18313320147"
      ]
     },
     "execution_count": 39,
     "metadata": {},
     "output_type": "execute_result"
    }
   ],
   "source": [
    "particle_mass(z1)"
   ]
  },
  {
   "cell_type": "code",
   "execution_count": 40,
   "id": "5b3d5a1e-a1af-437f-9d05-b12fb9cc099d",
   "metadata": {},
   "outputs": [
    {
     "data": {
      "text/plain": [
       "7478.322689432203"
      ]
     },
     "execution_count": 40,
     "metadata": {},
     "output_type": "execute_result"
    }
   ],
   "source": [
    "particle_mass(z2)\n"
   ]
  },
  {
   "cell_type": "code",
   "execution_count": 41,
   "id": "41890de9-004c-40e4-8aaa-dfbff3b59304",
   "metadata": {
    "editable": true,
    "slideshow": {
     "slide_type": ""
    },
    "tags": []
   },
   "outputs": [
    {
     "data": {
      "text/plain": [
       "157478.97810885217"
      ]
     },
     "execution_count": 41,
     "metadata": {},
     "output_type": "execute_result"
    }
   ],
   "source": [
    "particle_mass(higgs)"
   ]
  },
  {
   "cell_type": "markdown",
   "id": "9646f64a-4d23-4916-a2bd-3d753d5d16b6",
   "metadata": {
    "editable": true,
    "slideshow": {
     "slide_type": ""
    },
    "tags": []
   },
   "source": [
    "### Mini-project: let's make an event display"
   ]
  },
  {
   "cell_type": "code",
   "execution_count": 57,
   "id": "8bbf5bf4-41bb-4fe5-b1f9-db31f27fd036",
   "metadata": {
    "editable": true,
    "slideshow": {
     "slide_type": ""
    },
    "tags": []
   },
   "outputs": [],
   "source": [
    "dataset = json.load(open(\"../data/SMHiggsToZZTo4L.json\"))"
   ]
  },
  {
   "cell_type": "code",
   "execution_count": 58,
   "id": "76ce07e5-50e1-4e8f-a1c9-4fe5d2239bfb",
   "metadata": {
    "tags": []
   },
   "outputs": [],
   "source": [
    "def to_vector(particle):\n",
    "    return vector.obj(\n",
    "        pt=particle[\"pt\"],\n",
    "        eta=particle[\"eta\"],\n",
    "        phi=particle[\"phi\"],\n",
    "        mass=particle[\"mass\"],\n",
    "    )"
   ]
  },
  {
   "cell_type": "code",
   "execution_count": 59,
   "id": "583ad022-b560-4f68-8046-9f45d48a76bf",
   "metadata": {
    "editable": true,
    "slideshow": {
     "slide_type": ""
    },
    "tags": []
   },
   "outputs": [
    {
     "data": {
      "application/vnd.jupyter.widget-view+json": {
       "model_id": "964a0b557fac41c9b8b1f0d6e514501e",
       "version_major": 2,
       "version_minor": 0
      },
      "image/png": "[encoded data removed]",
      "text/html": [
       "\n",
       "            <div style=\"display: inline-block;\">\n",
       "                <div class=\"jupyter-widgets widget-label\" style=\"text-align: center;\">\n",
       "                    Figure\n",
       "                </div>\n",
       "                <img src='data:image/png;base64,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' width=640.0/>\n",
       "            </div>\n",
       "        "
      ],
      "text/plain": [
       "Canvas(toolbar=Toolbar(toolitems=[('Home', 'Reset original view', 'home', 'home'), ('Back', 'Back to previous …"
      ]
     },
     "metadata": {},
     "output_type": "display_data"
    }
   ],
   "source": [
    "%matplotlib widget\n",
    "\n",
    "fig = plt.figure()"
   ]
  },
  {
   "cell_type": "code",
   "execution_count": 60,
   "id": "7cba7e21-0b9f-49bc-b1a7-564297ce6e81",
   "metadata": {
    "tags": []
   },
   "outputs": [],
   "source": [
    "def draw_particle(ax, particle, color):\n",
    "    v = to_vector(particle)\n",
    "    ax.plot([0, v.px], [0, v.py], [0, v.pz], c=color)"
   ]
  },
  {
   "cell_type": "code",
   "execution_count": 72,
   "id": "e482dbda-c31f-405b-bccf-211fbf7a06a2",
   "metadata": {
    "tags": []
   },
   "outputs": [],
   "source": [
    "def draw_event(ax, event):\n",
    "    for particle in event[\"electron\"]:\n",
    "        draw_particle(ax, particle, \"blue\")\n",
    "    for particle in event[\"muon\"]:\n",
    "        draw_particle(ax, particle, \"green\")\n",
    "    #for particle in event[\"pion\"]:\n",
    "        #draw_particle(ax,particle,\"red\")"
   ]
  },
  {
   "cell_type": "code",
   "execution_count": 73,
   "id": "e434cf5e-44e8-4418-8690-6561ec4f771b",
   "metadata": {
    "tags": []
   },
   "outputs": [],
   "source": [
    "fig.clf()\n",
    "ax = fig.add_subplot(111, projection=\"3d\")\n",
    "\n",
    "draw_event(ax, dataset[0])"
   ]
  },
  {
   "cell_type": "code",
   "execution_count": 74,
   "id": "696722af-fdd5-4b0c-9573-cb00fb9b404d",
   "metadata": {
    "tags": []
   },
   "outputs": [],
   "source": [
    "fig.clf()\n",
    "ax = fig.add_subplot(111, projection=\"3d\")\n",
    "\n",
    "for event in dataset[0:10]:\n",
    "    draw_event(ax, event)"
   ]
  },
  {
   "cell_type": "markdown",
   "id": "de2c5f70-34fc-48c1-b3d5-d97665e90460",
   "metadata": {
    "tags": []
   },
   "source": [
    "Add more to the event display, for context."
   ]
  },
  {
   "cell_type": "code",
   "execution_count": 75,
   "id": "89462b06-f08d-45b6-99f2-08247458a8ce",
   "metadata": {
    "editable": true,
    "slideshow": {
     "slide_type": ""
    },
    "tags": []
   },
   "outputs": [],
   "source": [
    "def beamline(ax):\n",
    "    ax.plot([0, 0], [0, 0], [-100, 100], c=\"black\", ls=\":\")"
   ]
  },
  {
   "cell_type": "code",
   "execution_count": 76,
   "id": "ba014bdd-5de2-469b-91e3-5bccde9970d9",
   "metadata": {
    "editable": true,
    "slideshow": {
     "slide_type": ""
    },
    "tags": []
   },
   "outputs": [],
   "source": [
    "def cms_outline(ax):\n",
    "    z = np.linspace(-100, 100, 50)\n",
    "    theta = np.linspace(0, 2 * np.pi, 12)\n",
    "    theta_grid, z_grid = np.meshgrid(theta, z)\n",
    "    x_grid = 100 * np.cos(theta_grid)\n",
    "    y_grid = 100 * np.sin(theta_grid)\n",
    "    ax.plot_surface(x_grid, y_grid, z_grid, alpha=0.2, color=\"red\")"
   ]
  },
  {
   "cell_type": "code",
   "execution_count": 77,
   "id": "ed46194b-bf00-4f8e-ac01-d769cf930b55",
   "metadata": {
    "tags": []
   },
   "outputs": [
    {
     "data": {
      "text/plain": [
       "Text(0.5, 0, 'z')"
      ]
     },
     "execution_count": 77,
     "metadata": {},
     "output_type": "execute_result"
    }
   ],
   "source": [
    "fig.clf()\n",
    "ax = fig.add_subplot(111, projection=\"3d\")\n",
    "\n",
    "beamline(ax)\n",
    "cms_outline(ax)\n",
    "draw_event(ax, dataset[6417])  # has lots of electrons and muons\n",
    "\n",
    "ax.set_xlim(-100, 100)\n",
    "ax.set_ylim(-100, 100)\n",
    "ax.set_zlim(-100, 100)\n",
    "ax.set_xlabel(\"x\")\n",
    "ax.set_ylabel(\"y\")\n",
    "ax.set_zlabel(\"z\")"
   ]
  },
  {
   "cell_type": "code",
   "execution_count": 78,
   "id": "2729c025-681d-4dc1-b046-0104994d6caa",
   "metadata": {
    "editable": true,
    "slideshow": {
     "slide_type": ""
    },
    "tags": []
   },
   "outputs": [],
   "source": [
    "def draw_position_and_momentum(ax, event, particle, color):\n",
    "    # 1 unit is 1 cm\n",
    "    x0 = event[\"PV\"][\"x\"] - particle[\"dxy\"] * np.cos(particle[\"phi\"])\n",
    "    y0 = event[\"PV\"][\"y\"] - particle[\"dxy\"] * np.sin(particle[\"phi\"])\n",
    "    z0 = event[\"PV\"][\"z\"] - particle[\"dz\"]\n",
    "\n",
    "    # 1 unit is 1 GeV/c\n",
    "    v = to_vector(particle)\n",
    "    ax.plot([x0, x0 + v.px], [y0, y0 + v.py], [z0, z0 + v.pz], c=color)"
   ]
  },
  {
   "cell_type": "code",
   "execution_count": 79,
   "id": "f690b5f8-873a-448f-b93f-048903273dc4",
   "metadata": {
    "tags": []
   },
   "outputs": [
    {
     "data": {
      "text/plain": [
       "Text(0.5, 0, 'z')"
      ]
     },
     "execution_count": 79,
     "metadata": {},
     "output_type": "execute_result"
    }
   ],
   "source": [
    "\n",
    "\n",
    "fig.clf()\n",
    "ax = fig.add_subplot(111, projection=\"3d\")\n",
    "\n",
    "beamline(ax)\n",
    "\n",
    "event = dataset[6417]  # has lots of electrons and muons\n",
    "\n",
    "for particle in event[\"electron\"]:\n",
    "    draw_position_and_momentum(ax, event, particle, \"blue\")\n",
    "for particle in event[\"muon\"]:\n",
    "    draw_position_and_momentum(ax, event, particle, \"green\")\n",
    "\n",
    "ax.set_xlim(-100, 100)\n",
    "ax.set_ylim(-100, 100)\n",
    "ax.set_zlim(-100, 100)\n",
    "ax.set_xlabel(\"x\")\n",
    "ax.set_ylabel(\"y\")\n",
    "ax.set_zlabel(\"z\")"
   ]
  },
  {
   "cell_type": "code",
   "execution_count": null,
   "id": "c5653446-08e5-4af7-8626-2ef2348881a8",
   "metadata": {},
   "outputs": [],
   "source": []
  }
 ],
 "metadata": {
  "kernelspec": {
   "display_name": "Python 3 (ipykernel)",
   "language": "python",
   "name": "python3"
  },
  "language_info": {
   "codemirror_mode": {
    "name": "ipython",
    "version": 3
   },
   "file_extension": ".py",
   "mimetype": "text/x-python",
   "name": "python",
   "nbconvert_exporter": "python",
   "pygments_lexer": "ipython3",
   "version": "3.10.18"
  }
 },
 "nbformat": 4,
 "nbformat_minor": 5
}
